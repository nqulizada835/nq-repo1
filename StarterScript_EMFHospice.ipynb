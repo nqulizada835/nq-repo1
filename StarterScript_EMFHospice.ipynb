{
 "cells": [
  {
   "cell_type": "code",
   "execution_count": null,
   "id": "ed957036",
   "metadata": {},
   "outputs": [],
   "source": [
    "# Load in data from Access DB by reading in file or establishing connection"
   ]
  },
  {
   "cell_type": "markdown",
   "id": "68349ca6",
   "metadata": {},
   "source": [
    "# Focus on an area of interest involving hospice workers' routes to and from work, to and from patients residences, and the routes in between"
   ]
  },
  {
   "cell_type": "code",
   "execution_count": null,
   "id": "a2a9c45c",
   "metadata": {},
   "outputs": [],
   "source": [
    "# Establish network dataset from primary and ancillary data sources "
   ]
  },
  {
   "cell_type": "code",
   "execution_count": null,
   "id": "efda5fa0",
   "metadata": {},
   "outputs": [],
   "source": [
    "# Query data to find data meeting certain spatial and attribute criteria"
   ]
  },
  {
   "cell_type": "code",
   "execution_count": null,
   "id": "c6e33387",
   "metadata": {},
   "outputs": [],
   "source": [
    "# Perform network analysis to locate best routes based on barriers, stops, live traffic conditions and other incidentals"
   ]
  }
 ],
 "metadata": {
  "kernelspec": {
   "display_name": "Python 3 (ipykernel)",
   "language": "python",
   "name": "python3"
  },
  "language_info": {
   "codemirror_mode": {
    "name": "ipython",
    "version": 3
   },
   "file_extension": ".py",
   "mimetype": "text/x-python",
   "name": "python",
   "nbconvert_exporter": "python",
   "pygments_lexer": "ipython3",
   "version": "3.9.7"
  }
 },
 "nbformat": 4,
 "nbformat_minor": 5
}
